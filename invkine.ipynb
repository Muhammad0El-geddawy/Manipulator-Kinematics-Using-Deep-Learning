{
  "nbformat": 4,
  "nbformat_minor": 0,
  "metadata": {
    "colab": {
      "provenance": []
    },
    "kernelspec": {
      "name": "python3",
      "display_name": "Python 3"
    },
    "language_info": {
      "name": "python"
    }
  },
  "cells": [
    {
      "cell_type": "code",
      "execution_count": null,
      "metadata": {
        "id": "vfklu6yghp9u"
      },
      "outputs": [],
      "source": [
        "import scipy\n",
        "import pandas as pd\n",
        "import os\n",
        "import h5py\n",
        "import numpy as np\n",
        "from sklearn.utils import shuffle\n",
        "\n"
      ]
    },
    {
      "cell_type": "code",
      "source": [
        "###\n",
        "input_data = scipy.io.loadmat('/content/drive/MyDrive/Ikine/input.mat')\n",
        "output_data = scipy.io.loadmat('/content/drive/MyDrive/Ikine/output.mat')\n",
        "\n",
        "input_data.keys()"
      ],
      "metadata": {
        "colab": {
          "base_uri": "https://localhost:8080/"
        },
        "id": "mC0wDlCNsIqD",
        "outputId": "7aa751c6-b988-40ec-e6ff-215aa9608779"
      },
      "execution_count": null,
      "outputs": [
        {
          "output_type": "execute_result",
          "data": {
            "text/plain": [
              "dict_keys(['__header__', '__version__', '__globals__', 'input'])"
            ]
          },
          "metadata": {},
          "execution_count": 10
        }
      ]
    },
    {
      "cell_type": "code",
      "source": [
        "###\n",
        "input_data = input_data['input']\n",
        "output_data = output_data['output']"
      ],
      "metadata": {
        "id": "A6YQvEISsSy5"
      },
      "execution_count": null,
      "outputs": []
    },
    {
      "cell_type": "code",
      "source": [
        "input_data"
      ],
      "metadata": {
        "colab": {
          "base_uri": "https://localhost:8080/"
        },
        "id": "SNUmRFhwhXvJ",
        "outputId": "a58a743b-ab98-4e29-f62e-99730e24f23f"
      },
      "execution_count": null,
      "outputs": [
        {
          "output_type": "execute_result",
          "data": {
            "text/plain": [
              "array([[ 0.00000000e+00, -8.00000000e-01,  4.00000000e-01,\n",
              "         0.00000000e+00,  0.00000000e+00,  0.00000000e+00],\n",
              "       [ 4.82079820e-07, -8.00000000e-01,  3.99999742e-01,\n",
              "         0.00000000e+00,  0.00000000e+00,  0.00000000e+00],\n",
              "       [ 1.52149866e-06, -8.00000000e-01,  3.99999163e-01,\n",
              "         6.02599775e-07,  8.30748142e-07, -1.01640377e-06],\n",
              "       ...,\n",
              "       [-1.51022878e-02, -1.52716582e-01, -2.72094479e-01,\n",
              "        -1.46705330e-01,  8.10769982e-01,  1.05797111e+00],\n",
              "       [-1.21135313e-02, -1.51424699e-01, -2.72000903e-01,\n",
              "        -9.85704625e-02,  8.14204710e-01,  1.06421366e+00],\n",
              "       [ 1.21135313e-02,  1.51424699e-01, -2.72000903e-01,\n",
              "        -7.98270683e-02,  8.15300556e-01,  1.06635681e+00]])"
            ]
          },
          "metadata": {},
          "execution_count": 12
        }
      ]
    },
    {
      "cell_type": "code",
      "source": [
        "output_data"
      ],
      "metadata": {
        "colab": {
          "base_uri": "https://localhost:8080/"
        },
        "id": "LDWFxd-Mhbx-",
        "outputId": "ae8aa78e-7a48-4845-9438-59f47b26e530"
      },
      "execution_count": null,
      "outputs": [
        {
          "output_type": "execute_result",
          "data": {
            "text/plain": [
              "array([[ 0.00000000e+00,  0.00000000e+00,  0.00000000e+00],\n",
              "       [ 6.02599775e-07,  8.30748142e-07, -1.01640377e-06],\n",
              "       [ 1.90187332e-06,  2.57152868e-06, -3.04956600e-06],\n",
              "       ...,\n",
              "       [-1.46705330e-01,  8.10769982e-01,  1.05797111e+00],\n",
              "       [-9.85704625e-02,  8.14204710e-01,  1.06421366e+00],\n",
              "       [-7.98270683e-02,  8.15300556e-01,  1.06635681e+00]])"
            ]
          },
          "metadata": {},
          "execution_count": 13
        }
      ]
    },
    {
      "cell_type": "code",
      "source": [],
      "metadata": {
        "id": "6QxLKDAuuJpq"
      },
      "execution_count": null,
      "outputs": []
    },
    {
      "cell_type": "code",
      "source": [
        "input_data"
      ],
      "metadata": {
        "colab": {
          "base_uri": "https://localhost:8080/"
        },
        "id": "tYoR_c8EhdeW",
        "outputId": "f9fe3bf4-1ab3-42ac-e218-39ea2a39f368"
      },
      "execution_count": null,
      "outputs": [
        {
          "output_type": "execute_result",
          "data": {
            "text/plain": [
              "array([[ 0.00000000e+00, -8.00000000e-01,  4.00000000e-01,\n",
              "         0.00000000e+00,  0.00000000e+00,  0.00000000e+00],\n",
              "       [ 4.82079820e-07, -8.00000000e-01,  3.99999742e-01,\n",
              "         0.00000000e+00,  0.00000000e+00,  0.00000000e+00],\n",
              "       [ 1.52149866e-06, -8.00000000e-01,  3.99999163e-01,\n",
              "         6.02599775e-07,  8.30748142e-07, -1.01640377e-06],\n",
              "       ...,\n",
              "       [-1.51022878e-02, -1.52716582e-01, -2.72094479e-01,\n",
              "        -1.46705330e-01,  8.10769982e-01,  1.05797111e+00],\n",
              "       [-1.21135313e-02, -1.51424699e-01, -2.72000903e-01,\n",
              "        -9.85704625e-02,  8.14204710e-01,  1.06421366e+00],\n",
              "       [ 1.21135313e-02,  1.51424699e-01, -2.72000903e-01,\n",
              "        -7.98270683e-02,  8.15300556e-01,  1.06635681e+00]])"
            ]
          },
          "metadata": {},
          "execution_count": 14
        }
      ]
    },
    {
      "cell_type": "code",
      "source": [
        "###\n",
        "num_input = np.array(input_data)\n",
        "num_output = np.array(output_data)"
      ],
      "metadata": {
        "id": "UHOgOj3Wu7F7"
      },
      "execution_count": null,
      "outputs": []
    },
    {
      "cell_type": "code",
      "source": [
        "num_input.shape"
      ],
      "metadata": {
        "colab": {
          "base_uri": "https://localhost:8080/"
        },
        "id": "QkhEOZz8NRlJ",
        "outputId": "47c7423e-1d27-40ce-dae8-7786e9334af8"
      },
      "execution_count": null,
      "outputs": [
        {
          "output_type": "execute_result",
          "data": {
            "text/plain": [
              "(172216, 6)"
            ]
          },
          "metadata": {},
          "execution_count": 16
        }
      ]
    },
    {
      "cell_type": "markdown",
      "source": [
        "793 train\n",
        "200 test"
      ],
      "metadata": {
        "id": "pX4nf01_QWUc"
      }
    },
    {
      "cell_type": "code",
      "source": [
        "###\n",
        "num_input_train = num_input[:136000]\n",
        "num_output_train = num_output[:136000]\n",
        "\n",
        "num_input_test = num_input[136000:153000]\n",
        "num_output_test = num_output[136000:153000]\n",
        "\n",
        "num_input_val = num_input[153000:170000]\n",
        "num_output_val = num_output[153000:170000]\n"
      ],
      "metadata": {
        "id": "GuJCQIXbvKgx"
      },
      "execution_count": null,
      "outputs": []
    },
    {
      "cell_type": "code",
      "source": [
        "num_input_val.shape"
      ],
      "metadata": {
        "colab": {
          "base_uri": "https://localhost:8080/"
        },
        "id": "qzt2ClgpwX5R",
        "outputId": "14d1edea-dcb4-43bd-c5cc-973777dc05f4"
      },
      "execution_count": null,
      "outputs": [
        {
          "output_type": "execute_result",
          "data": {
            "text/plain": [
              "(17000, 6)"
            ]
          },
          "metadata": {},
          "execution_count": 18
        }
      ]
    },
    {
      "cell_type": "code",
      "source": [
        "###\n",
        "in_train = num_input_train.reshape(6, 136000)\n",
        "out_train = num_output_train.reshape(3, 136000)\n",
        "\n",
        "in_test = num_input_test.reshape(6, 17000)\n",
        "out_test = num_output_test.reshape(3, 17000)\n",
        "\n",
        "in_val = num_input_val.reshape(6, 17000)\n",
        "out_val = num_output_val.reshape(3, 17000)\n"
      ],
      "metadata": {
        "id": "6S30ptXXv4Ep"
      },
      "execution_count": null,
      "outputs": []
    },
    {
      "cell_type": "code",
      "source": [
        "out_val.shape"
      ],
      "metadata": {
        "colab": {
          "base_uri": "https://localhost:8080/"
        },
        "id": "1Vv9SF_hg6TZ",
        "outputId": "c12dd402-5c11-4b7a-b13c-e963d1ee681e"
      },
      "execution_count": null,
      "outputs": [
        {
          "output_type": "execute_result",
          "data": {
            "text/plain": [
              "(3, 17000)"
            ]
          },
          "metadata": {},
          "execution_count": 20
        }
      ]
    },
    {
      "cell_type": "code",
      "source": [
        "from sklearn.preprocessing import normalize"
      ],
      "metadata": {
        "id": "WvsdsWQmM1jK"
      },
      "execution_count": null,
      "outputs": []
    },
    {
      "cell_type": "code",
      "source": [
        "###\n",
        "xtrain_set = normalize(in_train)\n",
        "ytrain_set = normalize(out_train)\n",
        "\n",
        "xtest_set = normalize(in_test)\n",
        "ytest_set = normalize(out_test)\n",
        "\n",
        "xval = normalize(in_val)\n",
        "yval = normalize(out_val)"
      ],
      "metadata": {
        "id": "peUtSc7pwrSB"
      },
      "execution_count": null,
      "outputs": []
    },
    {
      "cell_type": "code",
      "source": [
        "xtrain_set.shape"
      ],
      "metadata": {
        "colab": {
          "base_uri": "https://localhost:8080/"
        },
        "id": "EczbGq5aq0Kb",
        "outputId": "b23ebcd0-e293-44d4-9956-ea7c3818f7d4"
      },
      "execution_count": null,
      "outputs": [
        {
          "output_type": "execute_result",
          "data": {
            "text/plain": [
              "(6, 136000)"
            ]
          },
          "metadata": {},
          "execution_count": 23
        }
      ]
    },
    {
      "cell_type": "code",
      "source": [
        "from tensorflow.keras.models import Sequential\n",
        "from tensorflow.keras.layers import Dense, Flatten, Softmax, SimpleRNN\n",
        "from tensorflow.keras import optimizers\n",
        "import tensorflow as tf"
      ],
      "metadata": {
        "id": "KKtLtkWSe6RJ"
      },
      "execution_count": null,
      "outputs": []
    },
    {
      "cell_type": "code",
      "source": [
        "xtrain_set = xtrain_set.reshape(136000, 6)\n",
        "ytrain_set = ytrain_set.reshape(136000, 3)\n",
        "\n",
        "xtest_set = xtest_set.reshape(17000, 6)\n",
        "ytest_set = ytest_set.reshape(17000, 3)\n",
        "\n",
        "xval = xval.reshape(17000, 6)\n",
        "yval = yval.reshape(17000, 3)"
      ],
      "metadata": {
        "id": "YboqnqeiqkK9"
      },
      "execution_count": null,
      "outputs": []
    },
    {
      "cell_type": "code",
      "source": [
        "xtrain_set"
      ],
      "metadata": {
        "id": "OyP_O2fMh9xP",
        "colab": {
          "base_uri": "https://localhost:8080/"
        },
        "outputId": "d265c183-60e5-451b-d5df-55b8c339dd65"
      },
      "execution_count": null,
      "outputs": [
        {
          "output_type": "execute_result",
          "data": {
            "text/plain": [
              "array([[ 0.00000000e+00, -3.62576491e-03,  1.81288246e-03,\n",
              "         0.00000000e+00,  0.00000000e+00,  0.00000000e+00],\n",
              "       [ 2.18488512e-09, -3.62576491e-03,  1.81288129e-03,\n",
              "         0.00000000e+00,  0.00000000e+00,  0.00000000e+00],\n",
              "       [ 6.89574557e-09, -3.62576491e-03,  1.81287866e-03,\n",
              "         2.73110640e-09,  3.76512183e-09, -4.60655139e-09],\n",
              "       ...,\n",
              "       [-9.90712075e-04, -1.86754160e-03,  4.36948125e-03,\n",
              "        -2.16473595e-03, -2.12156297e-03, -3.72704757e-03],\n",
              "       [-1.01694388e-03, -1.85270626e-03,  4.36909018e-03,\n",
              "        -2.20817671e-03, -2.12027802e-03, -3.72975221e-03],\n",
              "       [-1.04182181e-03, -1.83794544e-03,  4.36880565e-03,\n",
              "        -2.27271207e-03, -2.11843811e-03, -3.73400955e-03]])"
            ]
          },
          "metadata": {},
          "execution_count": 44
        }
      ]
    },
    {
      "cell_type": "code",
      "source": [
        "model = tf.keras.models.Sequential()\n"
      ],
      "metadata": {
        "id": "k14hBiSQzFA4"
      },
      "execution_count": null,
      "outputs": []
    },
    {
      "cell_type": "code",
      "source": [
        "model.add(Dense(units = 3, activation = 'gelu', input_shape = (6, )))\n",
        "model.add(tf.keras.layers.Dense(units = 32, activation = 'gelu'))\n",
        "model.add(tf.keras.layers.Dense(units = 64, activation = 'gelu'))\n",
        "model.add(tf.keras.layers.Dropout(0.2))\n",
        "model.add(tf.keras.layers.Dense(units = 64, activation = 'gelu'))\n",
        "model.add(tf.keras.layers.Dropout(0.2))\n",
        "model.add(tf.keras.layers.Dense(units = 32, activation = 'gelu'))\n",
        "model.add(tf.keras.layers.Dense(units = 16, activation = 'gelu'))\n",
        "model.add(tf.keras.layers.Dropout(0.2))\n",
        "model.add(tf.keras.layers.Dense(units = 3))\n",
        "\n"
      ],
      "metadata": {
        "id": "FHQ1LSb2hW2I"
      },
      "execution_count": null,
      "outputs": []
    },
    {
      "cell_type": "code",
      "source": [
        "\n"
      ],
      "metadata": {
        "id": "7RDSOTn6qYai"
      },
      "execution_count": null,
      "outputs": []
    },
    {
      "cell_type": "code",
      "source": [
        "model.summary()"
      ],
      "metadata": {
        "colab": {
          "base_uri": "https://localhost:8080/"
        },
        "id": "9SHW_EFXWMxH",
        "outputId": "7024b10a-0c7d-489c-bbff-02f293d4e926"
      },
      "execution_count": null,
      "outputs": [
        {
          "output_type": "stream",
          "name": "stdout",
          "text": [
            "Model: \"sequential_14\"\n",
            "_________________________________________________________________\n",
            " Layer (type)                Output Shape              Param #   \n",
            "=================================================================\n",
            " dense_108 (Dense)           (None, 3)                 21        \n",
            "                                                                 \n",
            " dense_109 (Dense)           (None, 32)                128       \n",
            "                                                                 \n",
            " dense_110 (Dense)           (None, 64)                2112      \n",
            "                                                                 \n",
            " dropout_15 (Dropout)        (None, 64)                0         \n",
            "                                                                 \n",
            " dense_111 (Dense)           (None, 64)                4160      \n",
            "                                                                 \n",
            " dropout_16 (Dropout)        (None, 64)                0         \n",
            "                                                                 \n",
            " dense_112 (Dense)           (None, 32)                2080      \n",
            "                                                                 \n",
            " dense_113 (Dense)           (None, 16)                528       \n",
            "                                                                 \n",
            " dropout_17 (Dropout)        (None, 16)                0         \n",
            "                                                                 \n",
            " dense_114 (Dense)           (None, 3)                 51        \n",
            "                                                                 \n",
            "=================================================================\n",
            "Total params: 9,080\n",
            "Trainable params: 9,080\n",
            "Non-trainable params: 0\n",
            "_________________________________________________________________\n"
          ]
        }
      ]
    },
    {
      "cell_type": "code",
      "source": [
        "model.compile(optimizer = tf.keras.optimizers.Adam() , loss = 'mean_squared_error', metrics = ['accuracy'])\n"
      ],
      "metadata": {
        "id": "pTCjLPmY0ev4"
      },
      "execution_count": null,
      "outputs": []
    },
    {
      "cell_type": "code",
      "source": [
        "history = model.fit(xtrain_set, ytrain_set, epochs =50, batch_size = 16, validation_data=(xval, yval))\n"
      ],
      "metadata": {
        "colab": {
          "base_uri": "https://localhost:8080/"
        },
        "id": "G0uq55gZ0iiO",
        "outputId": "127992f9-5b97-449d-d9f9-a388efdf1b94"
      },
      "execution_count": null,
      "outputs": [
        {
          "output_type": "stream",
          "name": "stdout",
          "text": [
            "Epoch 1/50\n",
            "8500/8500 [==============================] - 27s 3ms/step - loss: 1.2935e-06 - accuracy: 0.8414 - val_loss: 2.9407e-06 - val_accuracy: 0.8918\n",
            "Epoch 2/50\n",
            "8500/8500 [==============================] - 30s 4ms/step - loss: 4.5792e-07 - accuracy: 0.9170 - val_loss: 7.8946e-07 - val_accuracy: 0.9469\n",
            "Epoch 3/50\n",
            "8500/8500 [==============================] - 25s 3ms/step - loss: 4.4533e-07 - accuracy: 0.9186 - val_loss: 7.4506e-07 - val_accuracy: 0.9475\n",
            "Epoch 4/50\n",
            "8500/8500 [==============================] - 24s 3ms/step - loss: 4.3366e-07 - accuracy: 0.9185 - val_loss: 8.1042e-07 - val_accuracy: 0.9235\n",
            "Epoch 5/50\n",
            "8500/8500 [==============================] - 26s 3ms/step - loss: 4.2917e-07 - accuracy: 0.9183 - val_loss: 8.3470e-07 - val_accuracy: 0.9264\n",
            "Epoch 6/50\n",
            "8500/8500 [==============================] - 26s 3ms/step - loss: 4.2598e-07 - accuracy: 0.9198 - val_loss: 1.0664e-06 - val_accuracy: 0.9395\n",
            "Epoch 7/50\n",
            "8500/8500 [==============================] - 23s 3ms/step - loss: 4.2566e-07 - accuracy: 0.9196 - val_loss: 9.8894e-07 - val_accuracy: 0.9416\n",
            "Epoch 8/50\n",
            "8500/8500 [==============================] - 27s 3ms/step - loss: 4.2559e-07 - accuracy: 0.9187 - val_loss: 9.2249e-07 - val_accuracy: 0.9548\n",
            "Epoch 9/50\n",
            "8500/8500 [==============================] - 24s 3ms/step - loss: 4.2117e-07 - accuracy: 0.9185 - val_loss: 7.3547e-07 - val_accuracy: 0.9576\n",
            "Epoch 10/50\n",
            "8500/8500 [==============================] - 26s 3ms/step - loss: 4.2003e-07 - accuracy: 0.9187 - val_loss: 7.5446e-07 - val_accuracy: 0.9575\n",
            "Epoch 11/50\n",
            "8500/8500 [==============================] - 24s 3ms/step - loss: 4.1812e-07 - accuracy: 0.9179 - val_loss: 7.4290e-07 - val_accuracy: 0.9544\n",
            "Epoch 12/50\n",
            "8500/8500 [==============================] - 25s 3ms/step - loss: 4.1702e-07 - accuracy: 0.9196 - val_loss: 5.8814e-07 - val_accuracy: 0.9593\n",
            "Epoch 13/50\n",
            "8500/8500 [==============================] - 26s 3ms/step - loss: 4.1411e-07 - accuracy: 0.9184 - val_loss: 6.9536e-07 - val_accuracy: 0.9587\n",
            "Epoch 14/50\n",
            "8500/8500 [==============================] - 24s 3ms/step - loss: 4.1174e-07 - accuracy: 0.9191 - val_loss: 6.4707e-07 - val_accuracy: 0.9634\n",
            "Epoch 15/50\n",
            "8500/8500 [==============================] - 24s 3ms/step - loss: 4.1345e-07 - accuracy: 0.9186 - val_loss: 1.4186e-06 - val_accuracy: 0.9567\n",
            "Epoch 16/50\n",
            "8500/8500 [==============================] - 25s 3ms/step - loss: 4.1476e-07 - accuracy: 0.9187 - val_loss: 8.6791e-07 - val_accuracy: 0.9502\n",
            "Epoch 17/50\n",
            "8500/8500 [==============================] - 26s 3ms/step - loss: 4.0874e-07 - accuracy: 0.9209 - val_loss: 9.1367e-07 - val_accuracy: 0.9396\n",
            "Epoch 18/50\n",
            "8500/8500 [==============================] - 25s 3ms/step - loss: 4.0669e-07 - accuracy: 0.9216 - val_loss: 1.0157e-06 - val_accuracy: 0.9467\n",
            "Epoch 19/50\n",
            "8500/8500 [==============================] - 28s 3ms/step - loss: 4.0107e-07 - accuracy: 0.9207 - val_loss: 1.6295e-06 - val_accuracy: 0.9516\n",
            "Epoch 20/50\n",
            "8500/8500 [==============================] - 26s 3ms/step - loss: 3.9567e-07 - accuracy: 0.9204 - val_loss: 2.6179e-06 - val_accuracy: 0.9533\n",
            "Epoch 21/50\n",
            "8500/8500 [==============================] - 25s 3ms/step - loss: 3.8899e-07 - accuracy: 0.9213 - val_loss: 3.4211e-06 - val_accuracy: 0.9478\n",
            "Epoch 22/50\n",
            "8500/8500 [==============================] - 24s 3ms/step - loss: 3.8741e-07 - accuracy: 0.9215 - val_loss: 2.4267e-06 - val_accuracy: 0.9519\n",
            "Epoch 23/50\n",
            "8500/8500 [==============================] - 25s 3ms/step - loss: 3.8345e-07 - accuracy: 0.9212 - val_loss: 2.7354e-06 - val_accuracy: 0.9371\n",
            "Epoch 24/50\n",
            "8500/8500 [==============================] - 27s 3ms/step - loss: 3.8243e-07 - accuracy: 0.9213 - val_loss: 2.4015e-06 - val_accuracy: 0.9447\n",
            "Epoch 25/50\n",
            "8500/8500 [==============================] - 24s 3ms/step - loss: 3.7596e-07 - accuracy: 0.9215 - val_loss: 2.3188e-06 - val_accuracy: 0.9281\n",
            "Epoch 26/50\n",
            "8500/8500 [==============================] - 24s 3ms/step - loss: 3.7758e-07 - accuracy: 0.9204 - val_loss: 2.2282e-06 - val_accuracy: 0.9336\n",
            "Epoch 27/50\n",
            "8500/8500 [==============================] - 26s 3ms/step - loss: 3.7233e-07 - accuracy: 0.9212 - val_loss: 2.2451e-06 - val_accuracy: 0.9283\n",
            "Epoch 28/50\n",
            "8500/8500 [==============================] - 24s 3ms/step - loss: 3.7157e-07 - accuracy: 0.9209 - val_loss: 2.4753e-06 - val_accuracy: 0.9232\n",
            "Epoch 29/50\n",
            "8500/8500 [==============================] - 24s 3ms/step - loss: 3.7156e-07 - accuracy: 0.9198 - val_loss: 2.2850e-06 - val_accuracy: 0.9277\n",
            "Epoch 30/50\n",
            "8500/8500 [==============================] - 26s 3ms/step - loss: 3.6882e-07 - accuracy: 0.9201 - val_loss: 2.3298e-06 - val_accuracy: 0.9245\n",
            "Epoch 31/50\n",
            "8500/8500 [==============================] - 25s 3ms/step - loss: 3.7103e-07 - accuracy: 0.9200 - val_loss: 2.2108e-06 - val_accuracy: 0.9119\n",
            "Epoch 32/50\n",
            "8500/8500 [==============================] - 24s 3ms/step - loss: 3.6713e-07 - accuracy: 0.9216 - val_loss: 2.1600e-06 - val_accuracy: 0.8985\n",
            "Epoch 33/50\n",
            "8500/8500 [==============================] - 24s 3ms/step - loss: 3.6280e-07 - accuracy: 0.9203 - val_loss: 2.7294e-06 - val_accuracy: 0.9222\n",
            "Epoch 34/50\n",
            "8500/8500 [==============================] - 25s 3ms/step - loss: 3.6302e-07 - accuracy: 0.9197 - val_loss: 2.2092e-06 - val_accuracy: 0.9176\n",
            "Epoch 35/50\n",
            "8500/8500 [==============================] - 26s 3ms/step - loss: 3.6234e-07 - accuracy: 0.9193 - val_loss: 2.3349e-06 - val_accuracy: 0.9350\n",
            "Epoch 36/50\n",
            "8500/8500 [==============================] - 23s 3ms/step - loss: 3.6489e-07 - accuracy: 0.9193 - val_loss: 3.1480e-06 - val_accuracy: 0.9082\n",
            "Epoch 37/50\n",
            "8500/8500 [==============================] - 25s 3ms/step - loss: 3.6404e-07 - accuracy: 0.9216 - val_loss: 3.1814e-06 - val_accuracy: 0.9148\n",
            "Epoch 38/50\n",
            "8500/8500 [==============================] - 24s 3ms/step - loss: 3.6125e-07 - accuracy: 0.9208 - val_loss: 3.4349e-06 - val_accuracy: 0.9194\n",
            "Epoch 39/50\n",
            "8500/8500 [==============================] - 24s 3ms/step - loss: 3.6209e-07 - accuracy: 0.9214 - val_loss: 3.7216e-06 - val_accuracy: 0.9036\n",
            "Epoch 40/50\n",
            "8500/8500 [==============================] - 25s 3ms/step - loss: 3.5765e-07 - accuracy: 0.9203 - val_loss: 3.5373e-06 - val_accuracy: 0.8845\n",
            "Epoch 41/50\n",
            "8500/8500 [==============================] - 26s 3ms/step - loss: 3.5947e-07 - accuracy: 0.9193 - val_loss: 3.2162e-06 - val_accuracy: 0.9100\n",
            "Epoch 42/50\n",
            "8500/8500 [==============================] - 24s 3ms/step - loss: 3.5887e-07 - accuracy: 0.9194 - val_loss: 3.1545e-06 - val_accuracy: 0.8942\n",
            "Epoch 43/50\n",
            "8500/8500 [==============================] - 24s 3ms/step - loss: 3.5900e-07 - accuracy: 0.9213 - val_loss: 2.6326e-06 - val_accuracy: 0.8954\n",
            "Epoch 44/50\n",
            "8500/8500 [==============================] - 24s 3ms/step - loss: 3.5561e-07 - accuracy: 0.9201 - val_loss: 2.2888e-06 - val_accuracy: 0.9232\n",
            "Epoch 45/50\n",
            "8500/8500 [==============================] - 24s 3ms/step - loss: 3.5722e-07 - accuracy: 0.9188 - val_loss: 2.3767e-06 - val_accuracy: 0.9087\n",
            "Epoch 46/50\n",
            "8500/8500 [==============================] - 24s 3ms/step - loss: 3.5520e-07 - accuracy: 0.9200 - val_loss: 2.3157e-06 - val_accuracy: 0.9101\n",
            "Epoch 47/50\n",
            "8500/8500 [==============================] - 27s 3ms/step - loss: 3.5426e-07 - accuracy: 0.9192 - val_loss: 4.0716e-06 - val_accuracy: 0.9068\n",
            "Epoch 48/50\n",
            "8500/8500 [==============================] - 24s 3ms/step - loss: 3.5544e-07 - accuracy: 0.9199 - val_loss: 3.8818e-06 - val_accuracy: 0.8911\n",
            "Epoch 49/50\n",
            "8500/8500 [==============================] - 24s 3ms/step - loss: 3.5630e-07 - accuracy: 0.9191 - val_loss: 2.9544e-06 - val_accuracy: 0.8951\n",
            "Epoch 50/50\n",
            "8500/8500 [==============================] - 24s 3ms/step - loss: 3.5486e-07 - accuracy: 0.9210 - val_loss: 4.1571e-06 - val_accuracy: 0.8917\n"
          ]
        }
      ]
    },
    {
      "cell_type": "code",
      "source": [
        "\n",
        "model.save('invkine.h5')"
      ],
      "metadata": {
        "id": "byKF7Xsq0rL1"
      },
      "execution_count": null,
      "outputs": []
    },
    {
      "cell_type": "code",
      "source": [
        "import matplotlib.pyplot as plt\n",
        "plt.xlabel(\"Epochs\")\n",
        "plt.ylabel(\"Loss\")\n",
        "plt.plot(history.history[\"loss\"])\n"
      ],
      "metadata": {
        "id": "o9VJEo0oTSWE",
        "colab": {
          "base_uri": "https://localhost:8080/",
          "height": 482
        },
        "outputId": "9ba1211c-05b1-4818-f36b-28cc72cc4353"
      },
      "execution_count": null,
      "outputs": [
        {
          "output_type": "execute_result",
          "data": {
            "text/plain": [
              "[<matplotlib.lines.Line2D at 0x7f7bcc040c40>]"
            ]
          },
          "metadata": {},
          "execution_count": 178
        },
        {
          "output_type": "display_data",
          "data": {
            "text/plain": [
              "<Figure size 640x480 with 1 Axes>"
            ],
            "image/png": "[encoded data removed]"
          },
          "metadata": {}
        }
      ]
    },
    {
      "cell_type": "code",
      "source": [
        "plt.xlabel(\"Epochs\")\n",
        "plt.ylabel(\"accuracy\")\n",
        "plt.plot(history.history[\"accuracy\"])"
      ],
      "metadata": {
        "id": "BuTAgSvcTcP0",
        "colab": {
          "base_uri": "https://localhost:8080/",
          "height": 466
        },
        "outputId": "5adcb4eb-04de-4c0f-a959-125315e14b73"
      },
      "execution_count": null,
      "outputs": [
        {
          "output_type": "execute_result",
          "data": {
            "text/plain": [
              "[<matplotlib.lines.Line2D at 0x7f7bc4e243d0>]"
            ]
          },
          "metadata": {},
          "execution_count": 179
        },
        {
          "output_type": "display_data",
          "data": {
            "text/plain": [
              "<Figure size 640x480 with 1 Axes>"
            ],
            "image/png": "[encoded data removed]"
          },
          "metadata": {}
        }
      ]
    },
    {
      "cell_type": "code",
      "source": [
        "eval = model.evaluate(xtest_set, ytest_set)"
      ],
      "metadata": {
        "id": "Z9eGqhB9UktO",
        "colab": {
          "base_uri": "https://localhost:8080/"
        },
        "outputId": "f59b853b-b2df-412e-9533-e3bfd43af901"
      },
      "execution_count": null,
      "outputs": [
        {
          "output_type": "stream",
          "name": "stdout",
          "text": [
            "532/532 [==============================] - 1s 2ms/step - loss: 4.0792e-06 - accuracy: 0.8931\n"
          ]
        }
      ]
    },
    {
      "cell_type": "code",
      "source": [
        "y = model.predict(xtest_set)"
      ],
      "metadata": {
        "id": "GOs0NHznU3t5",
        "colab": {
          "base_uri": "https://localhost:8080/"
        },
        "outputId": "94cd62a1-7016-4942-c573-d76b1aec2b07"
      },
      "execution_count": null,
      "outputs": [
        {
          "output_type": "stream",
          "name": "stdout",
          "text": [
            "532/532 [==============================] - 2s 3ms/step\n"
          ]
        }
      ]
    },
    {
      "cell_type": "code",
      "source": [
        "y.shape"
      ],
      "metadata": {
        "colab": {
          "base_uri": "https://localhost:8080/"
        },
        "id": "5C62uCsknrpW",
        "outputId": "e78d5993-585d-474d-be8c-c7189543d6d7"
      },
      "execution_count": null,
      "outputs": [
        {
          "output_type": "execute_result",
          "data": {
            "text/plain": [
              "(17000, 3)"
            ]
          },
          "metadata": {},
          "execution_count": 187
        }
      ]
    },
    {
      "cell_type": "code",
      "source": [
        "y[1]"
      ],
      "metadata": {
        "colab": {
          "base_uri": "https://localhost:8080/"
        },
        "id": "raJ5Afl-n9Dn",
        "outputId": "59e4456d-095f-42be-d410-5d03cbdedde2"
      },
      "execution_count": null,
      "outputs": [
        {
          "output_type": "execute_result",
          "data": {
            "text/plain": [
              "array([-0.00519281, -0.00634611, -0.01045821], dtype=float32)"
            ]
          },
          "metadata": {},
          "execution_count": 188
        }
      ]
    },
    {
      "cell_type": "code",
      "source": [
        "ytest_set[1]"
      ],
      "metadata": {
        "colab": {
          "base_uri": "https://localhost:8080/"
        },
        "id": "n22rIbqPoDV7",
        "outputId": "1557ab19-39f4-4fd9-8e2a-d5ea237b3cef"
      },
      "execution_count": null,
      "outputs": [
        {
          "output_type": "execute_result",
          "data": {
            "text/plain": [
              "array([-0.00581984, -0.0050215 , -0.00890171])"
            ]
          },
          "metadata": {},
          "execution_count": 190
        }
      ]
    },
    {
      "cell_type": "code",
      "source": [
        "import tensorflow as tf\n",
        "import numpy as np\n",
        "model = tf.keras.models.load_model('invkine.h5', compile = False)"
      ],
      "metadata": {
        "id": "bA3bbUhWoLNp"
      },
      "execution_count": null,
      "outputs": []
    },
    {
      "cell_type": "code",
      "source": [
        "test = np.array([[0.451380884738815, 0.371668536050996, 0.104508618960214, 0.881155732270505, 0.441557601518660, 0.520551457806297]])\n",
        "pred = model.predict(xtest_set)"
      ],
      "metadata": {
        "colab": {
          "base_uri": "https://localhost:8080/"
        },
        "id": "AZCzFRtomr8r",
        "outputId": "21c34c64-cf15-453d-f4d4-066039b7262c"
      },
      "execution_count": null,
      "outputs": [
        {
          "output_type": "stream",
          "name": "stdout",
          "text": [
            "532/532 [==============================] - 1s 2ms/step\n"
          ]
        }
      ]
    }
  ]
}